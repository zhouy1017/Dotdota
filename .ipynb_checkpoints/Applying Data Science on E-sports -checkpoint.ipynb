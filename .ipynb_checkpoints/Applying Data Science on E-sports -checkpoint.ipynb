{
 "cells": [
  {
   "cell_type": "markdown",
   "metadata": {},
   "source": [
    "<h1><center>Applying Data Science on eSports - A Dota2 Case</center></h1>\n",
    "<h2><center>Predict the Results of an Upcoming Evente</center></h2>"
   ]
  },
  {
   "cell_type": "markdown",
   "metadata": {},
   "source": [
    "### Introduction\n",
    "In recent years, as several multiplayer competition games became popular all over the world with loyal player groups of 10-100 million scale, the professional gaming (eSports) developed rapidly.  Supported by the expansion of the eSports, despite of the fundamental roles like players and coaches, some new roles like “Data/Stats Analyst” are introduced into eSports industry just like the other highly developed “traditional sports” (NBA, FIFA, etc.).  From the experiences of the traditional sports, the comprehensive scientific analysis of the data could help the professionals identify the potential problems and find better plans to improve the performance, from individual training to organization management.  However, the data analysis in eSports is at a lower level than in traditional sports.  Most analyses focus only on statistical data collection and visualization ([Dotabuff](https://www.dotabuff.com/),[Dotamax](http://dotamax.com/home/),[Nahaz](https://www.youtube.com/channel/UCHgkSS3Vc-TIH1Wd64Hq_dQ)(famous individual analyst),etc.) and the deeper analysis techniques in data science are rarely applied.\n",
    "\n",
    "In this tutorial, we will go through a basic (but complete) data lifecycle to perform analysis on 8 teams in an upcoming Dota2 tournament ([SL i-League Dota 2 Invitational S2](https://starladder.com/en/dota-2-invitational-s2)).  \n",
    "<img src=\"files/A.png\" alt=\"Drawing\" style=\"width: 600px;\"/>\n",
    "<h3><center>John P Dickerson, Data Science Prof.  UMD</center></h3>\n",
    "We will be able to get various results/hypotheses from this process but to make the tutorial more concentrated and build a clear workflow, we set the primary goal of this tutorial as to predict the results of the game matches in the entire event based on machine learning."
   ]
  },
  {
   "cell_type": "markdown",
   "metadata": {},
   "source": [
    "### Contents of the Tutorial\n",
    "[Environment](#Envrioment ) <br/>\n",
    "[Data Collection](#Data-Collection)<br/>\n",
    "[Data Process](#Data-Process )<br/>\n",
    "[Exploratory Analysis](#Exploratory-Analysis )<br/>\n",
    "[Machine Learning](#Machine-Learning )<br/>\n",
    "[Summary and Insights](#Summary-and-Insight )<br/>\n",
    "[Documentations](#Documentations )<br/>\n",
    "[References](#References)"
   ]
  },
  {
   "cell_type": "markdown",
   "metadata": {},
   "source": [
    "### Envrioment \n",
    "This tutorial is "
   ]
  },
  {
   "cell_type": "code",
   "execution_count": 1,
   "metadata": {
    "collapsed": true
   },
   "outputs": [],
   "source": [
    "import dota2api\n",
    "import numpy as np\n",
    "import pandas as pd\n",
    "import requests"
   ]
  },
  {
   "cell_type": "markdown",
   "metadata": {},
   "source": [
    "### Data Collection\n",
    "Unlike other activities in real world, eSports are based on computer programs which means all gaming match data are generated, collected and stored electronically.  Technically we should be able to collect the data from the data server without extra physical devices (like GPS in football) or manual input.  However, not all game operators are willing to provide match data to public or provide all details of the raw data.  For Dota 2, we have following options:\n",
    "    1.\tThe official API provided by Valve Software. \n",
    "    (Including Third party database like [Dotabuff](https://www.dotabuff.com/) that based on this API.)\n",
    "    2.\tReplay parsing based database.\n",
    "    3.\tManual collection.\n",
    "Option 2 could provide more details than Option 1 because the replay of a match will cover all information while the API does not.  And due to some wrong logged changes (roster registration,etc),the information in the game server might be incorrect.  After consideration, to collect necessary data for our tutorial, we will combine all the options.  We will use [Datdota](http://datdota.com/) in Option2 to download the lists of matches of all 8 teams in our event and merge them as our main dataset.  And then use official API to get details of matches in the dataset.  Some trivial information that could not be accessed programmatically such as “which 8 teams are in the event” will be collected manually.\n"
   ]
  },
  {
   "cell_type": "markdown",
   "metadata": {},
   "source": [
    "We firstly get to know the 8 teams in the event from [liquidpedia](http://wiki.teamliquid.net/dota2/StarLadder/i-League_Invitational/2) and record them in a list.\n",
    "<img src=\"files/B.png\" alt=\"Drawing\" style=\"width: 600px;\"/>\n",
    "<h3><center>Participants from Liquidpedia</center></h3>"
   ]
  },
  {
   "cell_type": "code",
   "execution_count": 7,
   "metadata": {
    "collapsed": true
   },
   "outputs": [],
   "source": [
    "team_lst = ['Alliance','Newbee','Team Faceless','Team Liquid','TNC Pro Team','Vega Squadron','Invictus Gaming','Team VGJ']\n"
   ]
  },
  {
   "cell_type": "markdown",
   "metadata": {},
   "source": [
    "And then we could download the 8 csv files from [Datdota](http://datdota.com/) for each team. (The GitHub repo contains the files I downloaded in /dataset, since there are ongoing events, records might change anytime.)  Those files will contain all professional matches those 8 teams played with records on Dota2 game server.\n",
    "Load those files as dataframe and then merge them.\n"
   ]
  },
  {
   "cell_type": "code",
   "execution_count": 12,
   "metadata": {
    "collapsed": false
   },
   "outputs": [
    {
     "data": {
      "text/html": [
       "<div>\n",
       "<table border=\"1\" class=\"dataframe\">\n",
       "  <thead>\n",
       "    <tr style=\"text-align: right;\">\n",
       "      <th></th>\n",
       "      <th></th>\n",
       "      <th>Match</th>\n",
       "      <th>Date</th>\n",
       "      <th>League</th>\n",
       "      <th>Opponent</th>\n",
       "      <th>Result</th>\n",
       "    </tr>\n",
       "  </thead>\n",
       "  <tbody>\n",
       "    <tr>\n",
       "      <th rowspan=\"5\" valign=\"top\">Alliance</th>\n",
       "      <th>0</th>\n",
       "      <td>3178869138</td>\n",
       "      <td>14 May 2017</td>\n",
       "      <td>4442</td>\n",
       "      <td>Team Empire</td>\n",
       "      <td>Loss</td>\n",
       "    </tr>\n",
       "    <tr>\n",
       "      <th>1</th>\n",
       "      <td>3178589992</td>\n",
       "      <td>14 May 2017</td>\n",
       "      <td>4442</td>\n",
       "      <td>Team Empire</td>\n",
       "      <td>Win</td>\n",
       "    </tr>\n",
       "    <tr>\n",
       "      <th>2</th>\n",
       "      <td>3178374532</td>\n",
       "      <td>14 May 2017</td>\n",
       "      <td>4442</td>\n",
       "      <td>Team Empire</td>\n",
       "      <td>Loss</td>\n",
       "    </tr>\n",
       "    <tr>\n",
       "      <th>3</th>\n",
       "      <td>3176125586</td>\n",
       "      <td>13 May 2017</td>\n",
       "      <td>4442</td>\n",
       "      <td>Natus Vincere</td>\n",
       "      <td>Loss</td>\n",
       "    </tr>\n",
       "    <tr>\n",
       "      <th>4</th>\n",
       "      <td>3175916756</td>\n",
       "      <td>13 May 2017</td>\n",
       "      <td>4442</td>\n",
       "      <td>Natus Vincere</td>\n",
       "      <td>Loss</td>\n",
       "    </tr>\n",
       "  </tbody>\n",
       "</table>\n",
       "</div>"
      ],
      "text/plain": [
       "                 Match         Date  League       Opponent Result\n",
       "Alliance 0  3178869138  14 May 2017    4442    Team Empire   Loss\n",
       "         1  3178589992  14 May 2017    4442    Team Empire    Win\n",
       "         2  3178374532  14 May 2017    4442    Team Empire   Loss\n",
       "         3  3176125586  13 May 2017    4442  Natus Vincere   Loss\n",
       "         4  3175916756  13 May 2017    4442  Natus Vincere   Loss"
      ]
     },
     "execution_count": 12,
     "metadata": {},
     "output_type": "execute_result"
    }
   ],
   "source": [
    "# load the csv files\n",
    "ig = pd.read_csv(\"dataset/ig.csv\")\n",
    "nb = pd.read_csv(\"dataset/nb.csv\")\n",
    "alli = pd.read_csv(\"dataset/Alliance.csv\")\n",
    "fl = pd.read_csv(\"dataset/fl.csv\")\n",
    "tl = pd.read_csv(\"dataset/Team Liquid.csv\")\n",
    "vs = pd.read_csv(\"dataset/Vega Squadron.csv\")\n",
    "vgj = pd.read_csv(\"dataset/VGJ.csv\")\n",
    "tnc = pd.read_csv(\"dataset/TNC Pro Team.csv\")\n",
    "# merge as one called dataset\n",
    "frames = [alli,nb,fl,tl,tnc,vs,ig,vgj]\n",
    "dataset = pd.concat(frames, keys=team_lst)\n",
    "dataset.head()"
   ]
  },
  {
   "cell_type": "markdown",
   "metadata": {},
   "source": []
  },
  {
   "cell_type": "markdown",
   "metadata": {},
   "source": [
    "### Data Process"
   ]
  },
  {
   "cell_type": "markdown",
   "metadata": {},
   "source": [
    "### Exploratory Analysis"
   ]
  },
  {
   "cell_type": "markdown",
   "metadata": {},
   "source": [
    "### Machine Learning"
   ]
  },
  {
   "cell_type": "markdown",
   "metadata": {},
   "source": [
    "### Summary and Insight"
   ]
  },
  {
   "cell_type": "markdown",
   "metadata": {},
   "source": [
    "### Documentations"
   ]
  },
  {
   "cell_type": "markdown",
   "metadata": {},
   "source": [
    "### References"
   ]
  }
 ],
 "metadata": {
  "kernelspec": {
   "display_name": "Python 3",
   "language": "python",
   "name": "python3"
  },
  "language_info": {
   "codemirror_mode": {
    "name": "ipython",
    "version": 3
   },
   "file_extension": ".py",
   "mimetype": "text/x-python",
   "name": "python",
   "nbconvert_exporter": "python",
   "pygments_lexer": "ipython3",
   "version": "3.6.0"
  }
 },
 "nbformat": 4,
 "nbformat_minor": 2
}
