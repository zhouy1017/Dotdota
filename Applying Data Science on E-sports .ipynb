{
 "cells": [
  {
   "cell_type": "markdown",
   "metadata": {},
   "source": [
    "<h1><center>Applying Data Science on eSports - A Dota2 Case</center></h1>\n",
    "<h2><center>Predict the Results of an Upcoming Evente</center></h2>"
   ]
  },
  {
   "cell_type": "markdown",
   "metadata": {},
   "source": [
    "### Introduction\n",
    "In recent years, as several multiplayer competition games became popular all over the world with loyal player groups of 10-100 million scale, the professional gaming (eSports) developed rapidly.  Supported by the expansion of the eSports, despite of the fundamental roles like players and coaches, some new roles like “Data/Stats Analyst” are introduced into eSports industry just like the other highly developed “traditional sports” (NBA, FIFA, etc.).  From the experiences of the traditional sports, the comprehensive scientific analysis of the data could help the professionals identify the potential problems and find better plans to improve the performance, from individual training to organization management.  However, the data analysis in eSports is at a lower level than in traditional sports.  Most analyses focus only on statistical data collection and visualization ([Dotabuff](https://www.dotabuff.com/),[Dotamax](http://dotamax.com/home/),[Nahaz](https://www.youtube.com/channel/UCHgkSS3Vc-TIH1Wd64Hq_dQ)(famous individual analyst),etc.) and the deeper analysis techniques in data science are rarely applied.\n",
    "\n",
    "In this tutorial, we will go through a basic (but complete) data lifecycle to perform analysis on 8 teams in an upcoming Dota2 tournament ([SL i-League Dota 2 Invitational S2](https://starladder.com/en/dota-2-invitational-s2)).  \n",
    "<img src=\"files/A.png\" alt=\"Drawing\" style=\"width: 600px;\"/>\n",
    "<h3><center>John P Dickerson, Data Science Prof.  UMD</center></h3>\n",
    "We will be able to get various results/hypotheses from this process but to make the tutorial more concentrated and build a clear workflow, we set the primary goal of this tutorial as to predict the results of the game matches in the entire event based on machine learning."
   ]
  },
  {
   "cell_type": "markdown",
   "metadata": {},
   "source": [
    "### Contents of the Tutorial\n",
    "[Environment](#Envrioment ) <br/>\n",
    "[Data Collection](#Data-Collection)<br/>\n",
    "[Data Process](#Data-Process )<br/>\n",
    "[Exploratory Analysis](#Exploratory-Analysis )<br/>\n",
    "[Machine Learning](#Machine-Learning )<br/>\n",
    "[Summary and Insights](#Summary-and-Insight )<br/>\n",
    "[Documentations](#Documentations )<br/>\n",
    "[References](#References)"
   ]
  },
  {
   "cell_type": "markdown",
   "metadata": {},
   "source": [
    "### Envrioment \n",
    "This tutorial is "
   ]
  },
  {
   "cell_type": "code",
   "execution_count": 1,
   "metadata": {
    "collapsed": false
   },
   "outputs": [],
   "source": [
    "import dota2api\n",
    "import numpy as np\n",
    "import pandas as pd\n",
    "import requests\n",
    "import time \n",
    "import util22\n",
    "import matplotlib\n",
    "import matplotlib.pyplot as plt\n",
    "from datetime import datetime\n",
    "import warnings\n",
    "warnings.filterwarnings('ignore')"
   ]
  },
  {
   "cell_type": "markdown",
   "metadata": {},
   "source": [
    "### Data Collection\n",
    "Unlike other activities in real world, eSports are based on computer programs which means all gaming match data are generated, collected and stored electronically.  Technically we should be able to collect the data from the data server without extra physical devices (like GPS in football) or manual input.  However, not all game operators are willing to provide match data to public or provide all details of the raw data.  For Dota 2, we have following options:\n",
    "    1.\tThe official API provided by Valve Software. \n",
    "    (Including Third party database like [Dotabuff](https://www.dotabuff.com/) that based on this API.)\n",
    "    2.\tReplay parsing based database.\n",
    "    3.\tManual collection.\n",
    "Option 2 could provide more details than Option 1 because the replay of a match will cover all information while the API does not.  And due to some wrong logged changes (roster registration,etc),the information in the game server might be incorrect.  After consideration, to collect necessary data for our tutorial, we will combine all the options.  We will use [Datdota](http://datdota.com/) in Option2 to download the lists of matches of all 8 teams in our event and merge them as our main dataset.  And then use official API to get details of matches in the dataset.  Some trivial information that could not be accessed programmatically such as “which 8 teams are in the event” will be collected manually.\n"
   ]
  },
  {
   "cell_type": "markdown",
   "metadata": {},
   "source": [
    "We firstly get to know the 8 teams in the event from [liquidpedia](http://wiki.teamliquid.net/dota2/StarLadder/i-League_Invitational/2) and record them in a list.\n",
    "<img src=\"files/B.png\" alt=\"Drawing\" style=\"width: 600px;\"/>\n",
    "<h3><center>Participants from Liquidpedia</center></h3>"
   ]
  },
  {
   "cell_type": "code",
   "execution_count": 2,
   "metadata": {
    "collapsed": true
   },
   "outputs": [],
   "source": [
    "team_lst = ['Alliance','Newbee','Team Faceless','Team Liquid','TNC Pro Team','Vega Squadron','Invictus Gaming','Team VGJ']\n"
   ]
  },
  {
   "cell_type": "markdown",
   "metadata": {},
   "source": [
    "And then we could download the 8 csv files from [Datdota](http://datdota.com/) for each team. (The GitHub repo contains the files I downloaded in /dataset, since there are ongoing events, records might change anytime.)  Those files will contain all professional matches those 8 teams played with records on Dota2 game server.\n",
    "Load those files as dataframe and then merge them.\n"
   ]
  },
  {
   "cell_type": "code",
   "execution_count": 3,
   "metadata": {
    "collapsed": false
   },
   "outputs": [
    {
     "data": {
      "text/html": [
       "<div>\n",
       "<table border=\"1\" class=\"dataframe\">\n",
       "  <thead>\n",
       "    <tr style=\"text-align: right;\">\n",
       "      <th></th>\n",
       "      <th></th>\n",
       "      <th>Match</th>\n",
       "      <th>Date</th>\n",
       "      <th>League</th>\n",
       "      <th>Opponent</th>\n",
       "      <th>Result</th>\n",
       "    </tr>\n",
       "  </thead>\n",
       "  <tbody>\n",
       "    <tr>\n",
       "      <th rowspan=\"5\" valign=\"top\">Alliance</th>\n",
       "      <th>0</th>\n",
       "      <td>3178869138</td>\n",
       "      <td>14 May 2017</td>\n",
       "      <td>4442</td>\n",
       "      <td>Team Empire</td>\n",
       "      <td>Loss</td>\n",
       "    </tr>\n",
       "    <tr>\n",
       "      <th>1</th>\n",
       "      <td>3178589992</td>\n",
       "      <td>14 May 2017</td>\n",
       "      <td>4442</td>\n",
       "      <td>Team Empire</td>\n",
       "      <td>Win</td>\n",
       "    </tr>\n",
       "    <tr>\n",
       "      <th>2</th>\n",
       "      <td>3178374532</td>\n",
       "      <td>14 May 2017</td>\n",
       "      <td>4442</td>\n",
       "      <td>Team Empire</td>\n",
       "      <td>Loss</td>\n",
       "    </tr>\n",
       "    <tr>\n",
       "      <th>3</th>\n",
       "      <td>3176125586</td>\n",
       "      <td>13 May 2017</td>\n",
       "      <td>4442</td>\n",
       "      <td>Natus Vincere</td>\n",
       "      <td>Loss</td>\n",
       "    </tr>\n",
       "    <tr>\n",
       "      <th>4</th>\n",
       "      <td>3175916756</td>\n",
       "      <td>13 May 2017</td>\n",
       "      <td>4442</td>\n",
       "      <td>Natus Vincere</td>\n",
       "      <td>Loss</td>\n",
       "    </tr>\n",
       "  </tbody>\n",
       "</table>\n",
       "</div>"
      ],
      "text/plain": [
       "                 Match         Date  League       Opponent Result\n",
       "Alliance 0  3178869138  14 May 2017    4442    Team Empire   Loss\n",
       "         1  3178589992  14 May 2017    4442    Team Empire    Win\n",
       "         2  3178374532  14 May 2017    4442    Team Empire   Loss\n",
       "         3  3176125586  13 May 2017    4442  Natus Vincere   Loss\n",
       "         4  3175916756  13 May 2017    4442  Natus Vincere   Loss"
      ]
     },
     "execution_count": 3,
     "metadata": {},
     "output_type": "execute_result"
    }
   ],
   "source": [
    "# load the csv files\n",
    "ig = pd.read_csv(\"dataset/ig.csv\")\n",
    "nb = pd.read_csv(\"dataset/nb.csv\")\n",
    "alli = pd.read_csv(\"dataset/Alliance.csv\")\n",
    "fl = pd.read_csv(\"dataset/fl.csv\")\n",
    "tl = pd.read_csv(\"dataset/Team Liquid.csv\")\n",
    "vs = pd.read_csv(\"dataset/Vega Squadron.csv\")\n",
    "vgj = pd.read_csv(\"dataset/VGJ.csv\")\n",
    "tnc = pd.read_csv(\"dataset/TNC Pro Team.csv\")\n",
    "# merge as one called dataset\n",
    "frames = [alli,nb,fl,tl,tnc,vs,ig,vgj]\n",
    "dataset = pd.concat(frames, keys=team_lst)\n",
    "dataset.head()"
   ]
  },
  {
   "cell_type": "markdown",
   "metadata": {},
   "source": [
    "Now we have a list of all matches those 8 teams played.  For the goal to perform machine learning on the match data, we need to have more details for each match by get match details through dota2api.\n",
    "\n",
    "Note: dota2api requires a special key from Steam.  Follow the tutorial here before the next step: https://dota2api.readthedocs.io/en/latest/tutorial.html\n"
   ]
  },
  {
   "cell_type": "code",
   "execution_count": 7,
   "metadata": {
    "collapsed": false
   },
   "outputs": [
    {
     "ename": "APITimeoutError",
     "evalue": "'HTTP 503: Please try again later.'",
     "output_type": "error",
     "traceback": [
      "\u001b[1;31m---------------------------------------------------------------------------\u001b[0m",
      "\u001b[1;31mAPITimeoutError\u001b[0m                           Traceback (most recent call last)",
      "\u001b[1;32m<ipython-input-7-9507615a0308>\u001b[0m in \u001b[0;36m<module>\u001b[1;34m()\u001b[0m\n\u001b[0;32m      5\u001b[0m \u001b[1;32mfor\u001b[0m \u001b[0mmatchid\u001b[0m \u001b[1;32min\u001b[0m \u001b[0mdataset\u001b[0m\u001b[1;33m[\u001b[0m\u001b[1;34m'Match'\u001b[0m\u001b[1;33m]\u001b[0m\u001b[1;33m.\u001b[0m\u001b[0mtolist\u001b[0m\u001b[1;33m(\u001b[0m\u001b[1;33m)\u001b[0m\u001b[1;33m:\u001b[0m\u001b[1;33m\u001b[0m\u001b[0m\n\u001b[0;32m      6\u001b[0m     \u001b[1;31m# get the detail\u001b[0m\u001b[1;33m\u001b[0m\u001b[1;33m\u001b[0m\u001b[0m\n\u001b[1;32m----> 7\u001b[1;33m     \u001b[0mdetail\u001b[0m \u001b[1;33m=\u001b[0m \u001b[0mapi\u001b[0m\u001b[1;33m.\u001b[0m\u001b[0mget_match_details\u001b[0m\u001b[1;33m(\u001b[0m\u001b[0mmatch_id\u001b[0m\u001b[1;33m=\u001b[0m\u001b[0mmatchid\u001b[0m\u001b[1;33m)\u001b[0m\u001b[1;33m\u001b[0m\u001b[0m\n\u001b[0m\u001b[0;32m      8\u001b[0m     \u001b[1;31m# add to the result list\u001b[0m\u001b[1;33m\u001b[0m\u001b[1;33m\u001b[0m\u001b[0m\n\u001b[0;32m      9\u001b[0m     \u001b[0mlst\u001b[0m\u001b[1;33m.\u001b[0m\u001b[0mappend\u001b[0m\u001b[1;33m(\u001b[0m\u001b[0mdetail\u001b[0m\u001b[1;33m)\u001b[0m\u001b[1;33m\u001b[0m\u001b[0m\n",
      "\u001b[1;32mC:\\Users\\Zhou Yang\\Anaconda3\\envs\\flytomoon\\lib\\site-packages\\dota2api\\__init__.py\u001b[0m in \u001b[0;36mget_match_details\u001b[1;34m(self, match_id, **kwargs)\u001b[0m\n\u001b[0;32m    119\u001b[0m         \u001b[1;32mif\u001b[0m \u001b[0mself\u001b[0m\u001b[1;33m.\u001b[0m\u001b[0mlogger\u001b[0m\u001b[1;33m:\u001b[0m\u001b[1;33m\u001b[0m\u001b[0m\n\u001b[0;32m    120\u001b[0m             \u001b[0mself\u001b[0m\u001b[1;33m.\u001b[0m\u001b[0mlogger\u001b[0m\u001b[1;33m.\u001b[0m\u001b[0minfo\u001b[0m\u001b[1;33m(\u001b[0m\u001b[1;34m'URL: {0}'\u001b[0m\u001b[1;33m.\u001b[0m\u001b[0mformat\u001b[0m\u001b[1;33m(\u001b[0m\u001b[0murl\u001b[0m\u001b[1;33m)\u001b[0m\u001b[1;33m)\u001b[0m\u001b[1;33m\u001b[0m\u001b[0m\n\u001b[1;32m--> 121\u001b[1;33m         \u001b[1;32mif\u001b[0m \u001b[1;32mnot\u001b[0m \u001b[0mself\u001b[0m\u001b[1;33m.\u001b[0m\u001b[0m__check_http_err\u001b[0m\u001b[1;33m(\u001b[0m\u001b[0mreq\u001b[0m\u001b[1;33m.\u001b[0m\u001b[0mstatus_code\u001b[0m\u001b[1;33m)\u001b[0m\u001b[1;33m:\u001b[0m\u001b[1;33m\u001b[0m\u001b[0m\n\u001b[0m\u001b[0;32m    122\u001b[0m             \u001b[1;32mreturn\u001b[0m \u001b[0mresponse\u001b[0m\u001b[1;33m.\u001b[0m\u001b[0mbuild\u001b[0m\u001b[1;33m(\u001b[0m\u001b[0mreq\u001b[0m\u001b[1;33m,\u001b[0m \u001b[0murl\u001b[0m\u001b[1;33m,\u001b[0m \u001b[0mself\u001b[0m\u001b[1;33m.\u001b[0m\u001b[0mraw_mode\u001b[0m\u001b[1;33m)\u001b[0m\u001b[1;33m\u001b[0m\u001b[0m\n\u001b[0;32m    123\u001b[0m \u001b[1;33m\u001b[0m\u001b[0m\n",
      "\u001b[1;32mC:\\Users\\Zhou Yang\\Anaconda3\\envs\\flytomoon\\lib\\site-packages\\dota2api\\__init__.py\u001b[0m in \u001b[0;36m__check_http_err\u001b[1;34m(self, status_code)\u001b[0m\n\u001b[0;32m    267\u001b[0m             \u001b[1;32mraise\u001b[0m \u001b[0mexceptions\u001b[0m\u001b[1;33m.\u001b[0m\u001b[0mAPIAuthenticationError\u001b[0m\u001b[1;33m(\u001b[0m\u001b[0mself\u001b[0m\u001b[1;33m.\u001b[0m\u001b[0mapi_key\u001b[0m\u001b[1;33m)\u001b[0m\u001b[1;33m\u001b[0m\u001b[0m\n\u001b[0;32m    268\u001b[0m         \u001b[1;32melif\u001b[0m \u001b[0mstatus_code\u001b[0m \u001b[1;33m==\u001b[0m \u001b[1;36m503\u001b[0m\u001b[1;33m:\u001b[0m\u001b[1;33m\u001b[0m\u001b[0m\n\u001b[1;32m--> 269\u001b[1;33m             \u001b[1;32mraise\u001b[0m \u001b[0mexceptions\u001b[0m\u001b[1;33m.\u001b[0m\u001b[0mAPITimeoutError\u001b[0m\u001b[1;33m(\u001b[0m\u001b[1;33m)\u001b[0m\u001b[1;33m\u001b[0m\u001b[0m\n\u001b[0m\u001b[0;32m    270\u001b[0m         \u001b[1;32melse\u001b[0m\u001b[1;33m:\u001b[0m\u001b[1;33m\u001b[0m\u001b[0m\n\u001b[0;32m    271\u001b[0m             \u001b[1;32mreturn\u001b[0m \u001b[1;32mFalse\u001b[0m\u001b[1;33m\u001b[0m\u001b[0m\n",
      "\u001b[1;31mAPITimeoutError\u001b[0m: 'HTTP 503: Please try again later.'"
     ]
    }
   ],
   "source": [
    "# initialize the dota2api\n",
    "api = dota2api.Initialise()\n",
    "# get the match details by dota2api and append the raw details as a new column\n",
    "lst = [] # empty list to store the results\n",
    "for matchid in dataset['Match'].tolist():\n",
    "    # get the detail\n",
    "    detail = api.get_match_details(match_id=matchid)\n",
    "    # add to the result list\n",
    "    lst.append(detail)\n",
    "    # the dota2api requires to send no more than 1 request per second.\n",
    "    # please read the docs of dota2api and steam web api for more details.\n",
    "    # due to the request limitation, the code will take a long time.  So save time, you could use\n",
    "    # my dataset 'dataset.csv' dumped in my repo or other dumped source.\n",
    "    time.sleep(1)\n",
    "    #print (len(lst)) # debug code\n",
    "    \n",
    "    # this code could be revised to retry the current match while get exception from api server.\n",
    "    # please read http://stackoverflow.com/questions/2083987/how-to-retry-after-exception-in-python for more."
   ]
  },
  {
   "cell_type": "code",
   "execution_count": null,
   "metadata": {
    "collapsed": false
   },
   "outputs": [],
   "source": [
    "# add the details to the dataset as a new column\n",
    "dataset['Detail'] = lst\n",
    "# dump the dataset as csv to file\n",
    "dataset.to_pickle('dataset.pkl')\n",
    "dataset.head()"
   ]
  },
  {
   "cell_type": "markdown",
   "metadata": {},
   "source": [
    "Now we have all raw data of the match history.  However, before we can do actual analysis on the data, we need to process the data into more readable forms, especially for especially for ‘Detail’ column.\n"
   ]
  },
  {
   "cell_type": "markdown",
   "metadata": {},
   "source": [
    "### Data Process\n",
    "We will get features like ‘first blood time’, ‘radiant or dire’ (the position of team in game), etc. And add the patch versions depending on the date of the match."
   ]
  },
  {
   "cell_type": "code",
   "execution_count": null,
   "metadata": {
    "collapsed": false
   },
   "outputs": [],
   "source": [
    "# change the index of the team into a column\n",
    "dataset['Team'] = dataset.index\n",
    "dataset['Team'] = dataset['Team'].map(lambda x:str(x).split(',')[0].split('(')[1])\n",
    "# drop the duplicate matches (since a match between 8 teams will be recorded twice in each team's section).\n",
    "dataset = dataset.drop_duplicates(col = ['Match'])\n",
    "dataset.head()"
   ]
  },
  {
   "cell_type": "code",
   "execution_count": null,
   "metadata": {
    "collapsed": false
   },
   "outputs": [],
   "source": [
    "# add versions\n",
    "lst = []\n",
    "for date in dataset['Date']:\n",
    "    ver = util22.version(str(date)) # use the function in util.py\n",
    "    lst.append(ver)\n",
    "dataset['Version'] = lst"
   ]
  },
  {
   "cell_type": "code",
   "execution_count": null,
   "metadata": {
    "collapsed": false
   },
   "outputs": [],
   "source": [
    "# parse other features\n",
    "if True:\n",
    "    fb = []\n",
    "    dua = []\n",
    "    dire = []\n",
    "    radiant = []\n",
    "    ra_GPM = []\n",
    "    di_GPM = []\n",
    "    ra_XPM = []\n",
    "    di_XPM = []\n",
    "    ra_kill = []\n",
    "    di_kill = []\n",
    "    ra_death = []\n",
    "    di_death = []\n",
    "    ra_assi = []\n",
    "    ra_herodmg = []\n",
    "    ra_towerdmg = []\n",
    "    ra_lh = []\n",
    "    ra_denies = []\n",
    "    di_herodmg = []\n",
    "    di_towerdmg = []\n",
    "    di_lh = []\n",
    "    di_denies = []\n",
    "    di_assi = []\n",
    "    i = 0\n",
    "    dlst = dataset['Detail'].tolist()\n",
    "    teamlst = dataset['Team'].tolist()\n",
    "    oppolst = dataset['Opponent'].tolist()\n",
    "    while i < len(dlst):    \n",
    "        fb.append(dlst[i]['first_blood_time'])\n",
    "        dua.append(dlst[i]['duration'])\n",
    "        \n",
    "        # differ the sides by win/loss \n",
    "        try:\n",
    "            \n",
    "            if dataset['Result'].tolist()[i] == 'Win':\n",
    "                if dlst[i]['radiant_win']:\n",
    "                    radiant.append(teamlst[i])\n",
    "                    dire.append(oppolst[i])\n",
    "                else:\n",
    "                    dire.append(teamlst[i])\n",
    "                    radiant.append(oppolst[i])   \n",
    "            else:\n",
    "                if dlst[i]['radiant_win']:\n",
    "                    dire.append(teamlst[i])\n",
    "                    radiant.append(oppolst[i])\n",
    "                else:\n",
    "                    radiant.append(teamlst[i])\n",
    "                    dire.append(oppolst[i]) \n",
    "        except KeyError:\n",
    "            radiant.append(np.nan)\n",
    "            dire.append(np.nan)\n",
    "        # add the features of 5 players up to the team's features\n",
    "        j = 0\n",
    "        rgpm, rxpm,rkill,rdeath,rlh,rdines,rhd,rtd,rass = 0,0,0,0,0,0,0,0,0\n",
    "        dgpm, dxpm,dkill,ddeath,dlh,ddines,dhd,dtd,dass = 0,0,0,0,0,0,0,0,0\n",
    "        while j < 5:\n",
    "            \n",
    "            rgpm += dlst[i]['players'][j]['gold_per_min']\n",
    "            rxpm += dlst[i]['players'][j]['xp_per_min']\n",
    "            rkill += dlst[i]['players'][j]['kills']\n",
    "            rass += dlst[i]['players'][j]['assists']\n",
    "            rlh += dlst[i]['players'][j]['last_hits']\n",
    "            rdines += dlst[i]['players'][j]['denies']\n",
    "            rdeath += dlst[i]['players'][j]['deaths']\n",
    "            j += 1\n",
    "           \n",
    "        while j < 10:\n",
    "            dgpm += dlst[i]['players'][j]['gold_per_min']\n",
    "            dxpm += dlst[i]['players'][j]['xp_per_min']\n",
    "            dkill += dlst[i]['players'][j]['kills']\n",
    "            dass += dlst[i]['players'][j]['assists']\n",
    "            dlh += dlst[i]['players'][j]['last_hits']\n",
    "            ddines += dlst[i]['players'][j]['denies']\n",
    "            ddeath += dlst[i]['players'][j]['deaths']\n",
    "            j += 1\n",
    "        # add to the lists\n",
    "        ra_GPM.append(rgpm)\n",
    "        ra_XPM.append(rxpm)\n",
    "        ra_kill.append(rkill)\n",
    "        ra_death.append(rdeath)\n",
    "        ra_assi.append(rass)\n",
    "        ra_herodmg.append(rhd)\n",
    "        ra_towerdmg.append(rtd)\n",
    "        ra_lh.append(rlh)\n",
    "        ra_denies.append(rdines)\n",
    "        di_GPM.append(dgpm)\n",
    "        di_XPM.append(dxpm)\n",
    "        di_kill.append(dkill)\n",
    "        di_death.append(ddeath)\n",
    "        di_assi.append(dass)\n",
    "        di_herodmg.append(dhd)\n",
    "        di_towerdmg.append(dtd)\n",
    "        di_lh.append(dlh)\n",
    "        di_denies.append(ddines)\n",
    "        i += 1\n",
    "\n",
    "    # add to dataframe\n",
    "dataset['Ra_GPM'] = ra_GPM\n",
    "dataset['Ra_XPM'] = ra_XPM\n",
    "dataset['Ra_kill'] = ra_kill\n",
    "dataset['Ra_death'] = ra_death\n",
    "dataset['Ra_assistant'] = ra_assi\n",
    "dataset['Ra_last hit'] = ra_lh\n",
    "dataset['Ra_denies'] = ra_denies\n",
    "dataset['Di_GPM'] = di_GPM\n",
    "dataset['Di_XPM'] = di_XPM\n",
    "dataset['Di_kill'] = di_kill\n",
    "dataset['Di_death'] = di_death\n",
    "dataset['Di_assistant'] = di_assi\n",
    "dataset['Di_last hit'] = di_lh\n",
    "dataset['Di_denies'] = di_denies\n",
    "dataset['Duration'] = dua\n",
    "dataset['First_blood'] = fb\n",
    "dataset['Radiant'] = radiant\n",
    "\n",
    "# def a function to transfer win/loss to 1/0\n",
    "def winrate(s):\n",
    "    if s == 'Win':\n",
    "        return 1\n",
    "    else:\n",
    "        return 0\n",
    "dataset['Result'] = dataset['Result'].map(winrate)\n",
    "dataset.head()"
   ]
  },
  {
   "cell_type": "markdown",
   "metadata": {},
   "source": [
    "Now we have the basic performance data of each team to evalute how well they played in all pro matches."
   ]
  },
  {
   "cell_type": "markdown",
   "metadata": {},
   "source": [
    "### Exploratory Analysis\n",
    "For eSports, due to the frequent roster changes and patch updates, it is hard to evaluate the performance of a pro team from a historical perspective.  Mostly, a team could only have about 100-200 matches in certain version with a certain roster.  Those changes could make the data from other versions and time periods somehow meaningless and make it difficult to identify the actual factors that influence the team.  \n",
    "\n",
    "For example, team Alliance got 6 Premier-class champions in 2013 and only 2 in 2014 with a drop in world ranking from No.1 to 20+.  Just by looking at the GPM and XPM, we might say that the players lost their advantage in gaining gold and XP but since the patch in 2014 changed the economy system of the game, even players were doing as well as in 2013, they still could not make the same GPM and XPM.  \n",
    "\n",
    "Furthermore, the lower winrate means Alliance lost more matches in 2014 than 2013 which would also cause the drop in GPM and XPM – the lost teams typically have deficient performance data. This is the reason why current data analysis for dota2 usually only focus on the recent data of a pro team under current versions and versions without major changes.\n",
    "\n",
    "We could group the matches of Alliance to get their average winrate by months.\n"
   ]
  },
  {
   "cell_type": "code",
   "execution_count": null,
   "metadata": {
    "collapsed": false
   },
   "outputs": [],
   "source": [
    "# copy the dataset\n",
    "df = dataset.loc['Alliance']\n",
    "# get the data of the Alliance (differing from its opponent)\n",
    "df['GPM'] = np.nan\n",
    "df['XPM'] = np.nan\n",
    "for index,row in df.iterrows():\n",
    "    if row['Radiant'] == 'Alliance':\n",
    "        row['GPM'] == row['Ra_GPM']\n",
    "        row['XPM'] == row['Ra_XPM']\n",
    "    else:\n",
    "        row['GPM'] == row['Di_GPM']\n",
    "        row['XPM'] == row['Di_XPM']        \n",
    "# change the date into month-year\n",
    "df['Month'] = df['Date'].map(lambda s: s.split(\" \")[1]+s.split(\" \")[2]).map(lambda s: datetime.strptime(s, '%b%Y'))\n",
    "# groupby month and take the average\n",
    "dfm = df.groupby(['Month'],as_index=False).mean()\n",
    "# plot the winrate by time\n",
    "plt.figure(1)\n",
    "plt.figure(figsize=(12,8))\n",
    "plt.plot_date(dfm['Month'],dfm['Result'])\n",
    "plt.xlabel('Time')\n",
    "plt.ylabel('Winrate')\n",
    "plt.title('Figure 1: The winrate of Alliance across time')\n",
    "plt.show()"
   ]
  },
  {
   "cell_type": "markdown",
   "metadata": {},
   "source": [
    "Just like mentioned before, Alliance had a great winrate at around 2013-08 (nearly 90%) and have a noticiable "
   ]
  },
  {
   "cell_type": "code",
   "execution_count": null,
   "metadata": {
    "collapsed": false
   },
   "outputs": [],
   "source": [
    "plt.figure(2)\n",
    "plt.plot_date(dfm['Month'],dfm['GPM'])\n",
    "plt.plot_date(dfm['Month'],dfm['XPM'])\n",
    "plt.xlabel('Time')\n",
    "plt.ylabel('GPM/XPM')\n",
    "plt.title('Figure 2: The Performance of Alliance across time')\n",
    "plt.show()"
   ]
  },
  {
   "cell_type": "markdown",
   "metadata": {},
   "source": [
    "### Machine Learning"
   ]
  },
  {
   "cell_type": "markdown",
   "metadata": {},
   "source": [
    "### Summary and Insight"
   ]
  },
  {
   "cell_type": "markdown",
   "metadata": {},
   "source": [
    "### Documentations\n",
    "Pandas:http://pandas.pydata.org/<br/>\n",
    "Dota2API:https://dota2api.readthedocs.io/en/latest/#<br/>\n",
    "Numpy:http://www.numpy.org/<br/>\n",
    "Scikit-learn:http://scikit-learn.org/stable/<br/>\n",
    "requests:http://docs.python-requests.org/en/master/<br/>\n",
    "matplotlib:https://matplotlib.org/<br/>"
   ]
  },
  {
   "cell_type": "markdown",
   "metadata": {},
   "source": [
    "### References"
   ]
  }
 ],
 "metadata": {
  "kernelspec": {
   "display_name": "Python 3",
   "language": "python",
   "name": "python3"
  },
  "language_info": {
   "codemirror_mode": {
    "name": "ipython",
    "version": 3
   },
   "file_extension": ".py",
   "mimetype": "text/x-python",
   "name": "python",
   "nbconvert_exporter": "python",
   "pygments_lexer": "ipython3",
   "version": "3.6.0"
  }
 },
 "nbformat": 4,
 "nbformat_minor": 2
}
